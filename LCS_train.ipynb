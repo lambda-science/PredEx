{
 "cells": [
  {
   "cell_type": "code",
   "execution_count": null,
   "metadata": {},
   "outputs": [],
   "source": [
    "import pandas as pd\n",
    "import numpy as np\n",
    "from glob import glob\n",
    "from skExSTraCS import ExSTraCS\n",
    "from skrebate import ReliefF"
   ]
  },
  {
   "cell_type": "code",
   "execution_count": null,
   "metadata": {},
   "outputs": [],
   "source": [
    "# Step 1: Importer le model de autoMLPipe et faire les graph par classe + classif report\n",
    "cv_folder = \"/home/meyer/code-project/histo-explore/mlpipe/results/myoxia/input/CVDatasets/\"\n",
    "all_cv = glob(cv_folder+\"*\")\n"
   ]
  },
  {
   "cell_type": "code",
   "execution_count": null,
   "metadata": {},
   "outputs": [],
   "source": [
    "# Step 2: Entrainer Exstracs sur le dataset initial (concat de tout les test_df)\n",
    "test_cv = glob(cv_folder+\"*_Test.csv\")\n",
    "test_dfs = []\n",
    "for i in test_cv:\n",
    "    test_dfs.append(pd.read_csv(i))\n",
    "original_dataset = pd.concat(test_dfs)\n",
    "original_dataset.drop(\"id\", axis=1, inplace=True)\n",
    "Y = original_dataset[\"conclusion\"].values\n",
    "X = original_dataset.loc[:, original_dataset.columns != 'conclusion'].values\n",
    "headers = original_dataset.loc[:, original_dataset.columns != 'conclusion'].columns.to_numpy()\n",
    "\n",
    "# Get Feature Importance Scores to use as Expert Knowledge (see https://github.com/EpistasisLab/scikit-rebate/ for more details on skrebate package)\n",
    "relieff = ReliefF()\n",
    "relieff.fit(X, Y)\n",
    "scores = relieff.feature_importances_\n",
    "\n",
    "#Initialize and train model\n",
    "learning_iterations = 200000\n",
    "nu=1\n",
    "N=500\n",
    "rule_compaction=\"QRF\"\n",
    "random_state = 42\n",
    "model = ExSTraCS(learning_iterations=learning_iterations, nu=nu, N=N,track_accuracy_while_fit=True,expert_knowledge=scores, rule_compaction=rule_compaction, random_state=random_state)\n",
    "\n",
    "trainedModel = model.fit(X, Y)\n",
    "\n",
    "trainedModel.export_iteration_tracking_data(\"/home/meyer/code-project/histo-explore/mlpipe/exstracs_train_full/iteration_results.csv\")\n",
    "trainedModel.export_final_rule_population(\n",
    "    headers,\n",
    "    \"conclusion\",\n",
    "    filename=\"/home/meyer/code-project/histo-explore/mlpipe/exstracs_train_full/full_rules.csv\",\n",
    "    RCPopulation=False,\n",
    ")\n",
    "trainedModel.pickle_model(\"/home/meyer/code-project/histo-explore/mlpipe/exstracs_train_full/exstracs_model_preRC\")\n",
    "trainedModel.post_training_rule_compaction()\n",
    "trainedModel.export_final_rule_population(\n",
    "    headers,\n",
    "    \"conclusion\",\n",
    "    filename=\"/home/meyer/code-project/histo-explore/mlpipe/exstracs_train_full/compacted_rules.csv\",\n",
    "    RCPopulation=True,\n",
    ")\n",
    "trainedModel.pickle_model(\"/home/meyer/code-project/histo-explore/mlpipe/exstracs_train_full/exstracs_model_postRC\")"
   ]
  },
  {
   "cell_type": "code",
   "execution_count": null,
   "metadata": {},
   "outputs": [],
   "source": [
    "# Ecrire les règles, les règles dans un fichier et faire le graph de connaissance"
   ]
  }
 ],
 "metadata": {
  "interpreter": {
   "hash": "2fb12691bf719922cbbf914bb1682ebf3542bac21ec13f778ca4388ec657e663"
  },
  "kernelspec": {
   "display_name": "Python 3.9.7 ('histo-explore-0PirXSOo-py3.9')",
   "language": "python",
   "name": "python3"
  },
  "language_info": {
   "codemirror_mode": {
    "name": "ipython",
    "version": 3
   },
   "file_extension": ".py",
   "mimetype": "text/x-python",
   "name": "python",
   "nbconvert_exporter": "python",
   "pygments_lexer": "ipython3",
   "version": "3.9.7"
  },
  "orig_nbformat": 4
 },
 "nbformat": 4,
 "nbformat_minor": 2
}
