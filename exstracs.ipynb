{
 "cells": [
  {
   "cell_type": "code",
   "execution_count": null,
   "metadata": {},
   "outputs": [],
   "source": [
    "import warnings\n",
    "warnings.filterwarnings('ignore')\n",
    "from skExSTraCS import ExSTraCS\n",
    "from skrebate import ReliefF\n",
    "import numpy as np\n",
    "import pandas as pd\n",
    "from sklearn.preprocessing import LabelEncoder\n",
    "import matplotlib.pyplot as plt\n",
    "from sklearn.svm import SVC\n",
    "from sklearn.preprocessing import LabelEncoder\n",
    "from sklearn.model_selection import cross_val_score\n",
    "from sklearn.metrics import plot_confusion_matrix\n",
    "from sklearn.model_selection import StratifiedKFold, cross_val_score\n",
    "from sklearn.model_selection import learning_curve \n",
    "#Load Data Using Pandas\n",
    "data = pd.read_csv(\"data/histo_feature.csv\") #REPLACE with your own dataset .csv filename\n",
    "classLabel = \"conclusion\"\n",
    "data = data.iloc[:,9:]\n",
    "data = data.drop(\"datetime\",axis=1)\n",
    "data = data.drop(data[data[\"conclusion\"]==\"OTHER\"].index)\n",
    "data = data.drop(data[data[\"conclusion\"]==\"UNCLEAR\"].index)\n",
    "dataFeatures = data.iloc[:,1:].values #DEFINE classLabel variable as the Str at the top of your dataset's action column\n",
    "dataPhenotypes_raw = data.iloc[:,0].values\n",
    "label_encoder = LabelEncoder()\n",
    "label_encoder = label_encoder.fit(dataPhenotypes_raw)\n",
    "dataPhenotypes = label_encoder.transform(dataPhenotypes_raw)"
   ]
  },
  {
   "cell_type": "code",
   "execution_count": null,
   "metadata": {},
   "outputs": [],
   "source": [
    "#Shuffle Data Before CV\n",
    "formatted = np.insert(dataFeatures,dataFeatures.shape[1],dataPhenotypes,1)\n",
    "np.random.shuffle(formatted)\n",
    "dataFeatures = np.delete(formatted,-1,axis=1)\n",
    "dataPhenotypes = formatted[:,-1]\n",
    "\n",
    "#Get Feature Importance Scores to use as Expert Knowledge (see https://github.com/EpistasisLab/scikit-rebate/ for more details on skrebate package)\n",
    "relieff = ReliefF()\n",
    "relieff.fit(dataFeatures,dataPhenotypes)\n",
    "scores = relieff.feature_importances_\n",
    "\n",
    "#Initialize ExSTraCS Model\n",
    "model = ExSTraCS(learning_iterations=100, N=100,expert_knowledge=scores)\n",
    "#model = ExSTraCS(N=3000)\n",
    "trainedModel = model.fit(dataFeatures,dataPhenotypes)\n",
    "print(\"Training Score: \", trainedModel.score(dataFeatures,dataPhenotypes))\n",
    "cv = StratifiedKFold(n_splits=5, shuffle=True, random_state=777)\n",
    "cross_val_scoring = cross_val_score(trainedModel, dataFeatures, dataPhenotypes, cv=cv, scoring=\"accuracy\", n_jobs=8)\n",
    "print(\"Cross-Validation Scores: \", cross_val_scoring)\n",
    "\n",
    "train_sizes, train_scores, test_scores = learning_curve(model, dataFeatures, dataPhenotypes, cv=cv, scoring=\"accuracy\", n_jobs=8)"
   ]
  },
  {
   "cell_type": "code",
   "execution_count": null,
   "metadata": {},
   "outputs": [],
   "source": [
    "# Evalution de la cross-val\n",
    "cv = StratifiedKFold(n_splits=5, shuffle=True, random_state=777)\n",
    "print(\"Cross-Validation Scores:\")\n",
    "cross_val_scoring = cross_val_score(model, dataFeatures, dataPhenotypes, cv=cv, scoring=\"accuracy\", n_jobs=-1)\n",
    "print(cross_val_scoring)\n",
    "plt.plot(range(5), cross_val_scoring, 'o-', color=\"r\",\n",
    "                 label=\"Cross-Validation Accuracy\")\n",
    "ylim = plt.ylim(0,1)\n",
    "xticks = plt.xticks(range(5))"
   ]
  },
  {
   "cell_type": "code",
   "execution_count": null,
   "metadata": {},
   "outputs": [],
   "source": [
    "train_sizes, train_scores, test_scores = learning_curve(model, dataFeatures, dataPhenotypes, cv=cv, scoring=\"accuracy\")"
   ]
  },
  {
   "cell_type": "code",
   "execution_count": null,
   "metadata": {},
   "outputs": [],
   "source": [
    "train_scores_mean = np.mean(train_scores, axis=1)\n",
    "test_scores_mean = np.mean(test_scores, axis=1)\n",
    "train_scores_std = np.std(train_scores, axis=1)\n",
    "test_scores_std = np.std(test_scores, axis=1)\n",
    "\n",
    "plt.plot(train_sizes, train_scores_mean, 'o-', color=\"r\",\n",
    "                 label=\"Training score\")\n",
    "plt.plot(train_sizes, test_scores_mean, 'o-', color=\"g\",\n",
    "                 label=\"Cross-validation score\")\n",
    "plt.fill_between(train_sizes, train_scores_mean - train_scores_std,\n",
    "                         train_scores_mean + train_scores_std, alpha=0.1,\n",
    "                         color=\"r\")\n",
    "plt.fill_between(train_sizes, test_scores_mean - test_scores_std,\n",
    "                         test_scores_mean + test_scores_std, alpha=0.1,\n",
    "                         color=\"g\")\n",
    "plt.ylim(0.4,1.05)\n",
    "plt.title(\"Learning Curve (SVM). Mean Accuracy +- 1 std\")\n",
    "plt.xlabel(\"Training Examples\")\n",
    "plt.ylabel(\"Accuracy Score\")\n",
    "plt.legend(loc=\"best\")\n",
    "plt.grid()\n",
    "plt.show()"
   ]
  },
  {
   "cell_type": "code",
   "execution_count": null,
   "metadata": {},
   "outputs": [],
   "source": [
    "plot_confusion_matrix(model, dataFeatures, dataPhenotypes, display_labels=[\"CNM\",\"COM\",\"NM\"])"
   ]
  }
 ],
 "metadata": {
  "interpreter": {
   "hash": "7184f579ec78d0519e67e00d87a307dc220926cb31d7038472821cdc0bd66c71"
  },
  "kernelspec": {
   "display_name": "Python 3.8.5  ('venv': venv)",
   "name": "python3"
  },
  "language_info": {
   "codemirror_mode": {
    "name": "ipython",
    "version": 3
   },
   "file_extension": ".py",
   "mimetype": "text/x-python",
   "name": "python",
   "nbconvert_exporter": "python",
   "pygments_lexer": "ipython3",
   "version": "3.8.5"
  },
  "orig_nbformat": 2
 },
 "nbformat": 4,
 "nbformat_minor": 2
}