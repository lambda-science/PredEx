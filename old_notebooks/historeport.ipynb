{
 "cells": [
  {
   "cell_type": "code",
   "execution_count": null,
   "source": [
    "import pandas as pd\n",
    "import sqlite3\n",
    "import json\n",
    "import matplotlib.pyplot as plt\n",
    "import seaborn as sns\n",
    "import numpy as np\n",
    "sns.set_style(\"whitegrid\")\n",
    "con = sqlite3.connect(\"data/app.db\")\n",
    "df = pd.read_sql_query(\"SELECT * from report_histo\", con)\n",
    "excel = pd.read_excel(\"data/Dossier_Patient_clean_myocapt_KC_v6.xlsx\")"
   ],
   "outputs": [],
   "metadata": {}
  },
  {
   "cell_type": "code",
   "execution_count": null,
   "source": [
    "def table_to_df(df):\n",
    "    # Transformation de la table SQLite en dataframe en parsant l'arbre JSON\n",
    "    # Return un dictionnaire et une liste de colonnes (les features histo)\n",
    "    tree_as_dict = {}\n",
    "    features_col = []\n",
    "    for index, row in df.iterrows():\n",
    "        tree_as_dict.setdefault(\"id\", []).append(row[0])\n",
    "        tree_as_dict.setdefault(\"patient_id\", []).append(row[1])\n",
    "        tree_as_dict.setdefault(\"expert_id\", []).append(row[2])\n",
    "        tree_as_dict.setdefault(\"biopsie_id\", []).append(row[3])\n",
    "        tree_as_dict.setdefault(\"muscle_prelev\", []).append(row[4])\n",
    "        tree_as_dict.setdefault(\"age_biopsie\", []).append(row[5])\n",
    "        tree_as_dict.setdefault(\"date_envoie\", []).append(row[6])\n",
    "        tree_as_dict.setdefault(\"gene_diag\", []).append(row[7])\n",
    "        tree_as_dict.setdefault(\"comment\", []).append(row[9])\n",
    "        tree_as_dict.setdefault(\"conclusion\", []).append(row[10])\n",
    "        tree_as_dict.setdefault(\"datetime\", []).append(row[11])\n",
    "\n",
    "        my_tree = json.loads(row[8])\n",
    "        for feature in my_tree:\n",
    "            tree_as_dict.setdefault(feature[\"text\"], []).append(float(feature[\"data\"].get(\"presence\", -0.25)))\n",
    "            if index==0:\n",
    "                features_col.append(feature[\"text\"])\n",
    "    return tree_as_dict, features_col\n",
    "tree_as_dict, features_col = table_to_df(df)\n",
    "df2 = pd.DataFrame.from_dict(tree_as_dict)\n",
    "\n",
    "# Simplifier le diagnostic en regroupant les sous-type sous 5 catégories: Némaline, Core Myo, CentroNuc ou UNCLEAR ou OTHER\n",
    "# Simplification de l'encodage:\n",
    "# No Info (-0.25) -> 0 ; Absence reste ; Présence faible/modéré/forte (0.25 0.5 0.75) -> 1\n",
    "df2 = df2.replace({\"COM_CCD\":\"COM\", \"COM_MMM\":\"COM\", \"NM_CAP\":\"NM\", \"CFTD\":\"OTHER\", \"NON_CM\":\"OTHER\",\"CM\":\"UNCLEAR\"})\n",
    "df2 = df2.replace({-0.25:np.nan, 0.25:1, 0.5:1, 0.75:1})"
   ],
   "outputs": [],
   "metadata": {}
  },
  {
   "cell_type": "code",
   "execution_count": null,
   "source": [
    "muscle_prelev = df2[\"muscle_prelev\"].value_counts()\n",
    "# Empty index to N/A\n",
    "as_list = muscle_prelev.index.tolist()\n",
    "idx = as_list.index('')\n",
    "as_list[idx] = 'N/A'\n",
    "muscle_prelev.index = as_list\n",
    "sns.barplot(x=muscle_prelev.index, y=muscle_prelev)\n",
    "var = plt.xticks(rotation=25)"
   ],
   "outputs": [],
   "metadata": {}
  },
  {
   "cell_type": "code",
   "execution_count": null,
   "source": [
    "age_biopsie = df2[\"age_biopsie\"].value_counts()\n",
    "bebe = age_biopsie.where(age_biopsie.index<=2).sum()\n",
    "enfant = age_biopsie.where((age_biopsie.index>2) & (age_biopsie.index<18)).sum()\n",
    "adulte = age_biopsie.where(age_biopsie.index>=18).sum()\n",
    "g = sns.barplot(x=[\"Bébé (<=2ans)\", \"Enfant (3-17ans)\", \"Adulte (>=18ans)\"], y=[bebe, enfant, adulte])\n",
    "for i in range(3):\n",
    "    g.text(i, [bebe, enfant, adulte][i]+0.1, int([bebe, enfant, adulte][i]), color='black', ha=\"center\")"
   ],
   "outputs": [],
   "metadata": {}
  },
  {
   "cell_type": "code",
   "execution_count": null,
   "source": [
    "gene_diag = df2[\"gene_diag\"].value_counts()[0:4]\n",
    "gene_diag[\"Other\"] = 89-(14+11+8+7)\n",
    "fig_dims = (8, 4)\n",
    "fig, ax = plt.subplots(figsize=fig_dims)\n",
    "g = sns.barplot(x=gene_diag.index, y=gene_diag, ax=ax)\n",
    "for i in range(len(gene_diag)):\n",
    "    g.text(i, gene_diag[i]+0.1, gene_diag[i], color='black', ha=\"center\")\n",
    "#var = plt.xticks(rotation=90)\n"
   ],
   "outputs": [],
   "metadata": {}
  },
  {
   "cell_type": "code",
   "execution_count": null,
   "source": [
    "# Merge sub types for stats\n",
    "conclusion = df2[\"conclusion\"].value_counts()\n",
    "g = sns.barplot(x=conclusion.index, y=conclusion)\n",
    "for i in range(len(conclusion)):\n",
    "    g.text(i, conclusion[i]+0.1, conclusion[i], color='black', ha=\"center\")"
   ],
   "outputs": [],
   "metadata": {}
  },
  {
   "cell_type": "code",
   "execution_count": null,
   "source": [
    "df2[features_col].sum().sort_values(ascending=False)[0:10]"
   ],
   "outputs": [],
   "metadata": {}
  },
  {
   "cell_type": "code",
   "execution_count": null,
   "source": [
    "# Les features les plus présent chez les NM\n",
    "df2.where(df2[\"conclusion\"]==\"NM\")[features_col].sum().sort_values(ascending=False)[0:10]"
   ],
   "outputs": [],
   "metadata": {}
  },
  {
   "cell_type": "code",
   "execution_count": null,
   "source": [
    "# Les features les plus présent chez les Centro nuclear myo\n",
    "df2.where(df2[\"conclusion\"]==\"CNM\")[features_col].sum().sort_values(ascending=False)[0:10]"
   ],
   "outputs": [],
   "metadata": {}
  },
  {
   "cell_type": "code",
   "execution_count": null,
   "source": [
    "# Pour le learning futur: sortir la matrice de 0/1 en .csv\n",
    "# df2 = df2.replace({\"UNCLEAR\":\"OTHER\"})\n",
    "# df2.to_csv(\"data/histo_feature.csv\", index=False)"
   ],
   "outputs": [],
   "metadata": {}
  },
  {
   "cell_type": "code",
   "execution_count": null,
   "source": [
    "stat_per_gene = {}\n",
    "all_genes = list(set(df2.gene_diag.to_list()))\n",
    "for i in all_genes:\n",
    "    ds = df2[df2[\"gene_diag\"]==i][features_col].sum().sort_values(ascending=False)\n",
    "    nrow = len(df2[df2[\"gene_diag\"]==i])\n",
    "    ds = ds / nrow * 100\n",
    "    stat_per_gene[i] = {}\n",
    "    stat_per_gene[i][\"n\"] = nrow\n",
    "    stat_per_gene[i][\"feature\"] = ds[ds>0].round().to_dict()"
   ],
   "outputs": [],
   "metadata": {}
  },
  {
   "cell_type": "code",
   "execution_count": null,
   "source": [
    "stat_per_diag = {}\n",
    "all_diag = list(set(df2.conclusion.to_list()))\n",
    "for i in all_diag:\n",
    "    ds = df2[df2[\"conclusion\"]==i][features_col].sum().sort_values(ascending=False)\n",
    "    nrow = len(df2[df2[\"conclusion\"]==i])\n",
    "    ds = ds / nrow * 100\n",
    "    stat_per_diag[i] = {}\n",
    "    stat_per_diag[i][\"n\"] = nrow\n",
    "    stat_per_diag[i][\"feature\"] = ds[ds>0].round().to_dict()"
   ],
   "outputs": [],
   "metadata": {}
  },
  {
   "cell_type": "code",
   "execution_count": null,
   "source": [
    "import json\n",
    "\n",
    "with open(\"data/stat_per_gene.json\",\"w\") as f:\n",
    "    json.dump(stat_per_gene, f, indent=4, ensure_ascii=False)\n",
    "with open(\"data/stat_per_diag.json\",\"w\") as f:\n",
    "    json.dump(stat_per_diag, f, indent=4, ensure_ascii=False)"
   ],
   "outputs": [],
   "metadata": {}
  },
  {
   "cell_type": "code",
   "execution_count": null,
   "source": [
    "import matplotlib.pyplot as plt\n",
    "import plotly\n",
    "import numpy as np\n",
    "import seaborn as sns\n",
    "import plotly.graph_objs as go\n",
    "\n",
    "plotly.offline.init_notebook_mode()\n",
    "onto_values = df2.iloc[:,11:]\n",
    "onto_values = onto_values.dropna(axis=1, thresh=10)\n",
    "onto_values = onto_values.replace({0:-1})\n",
    "# onto_values = onto_values.fillna(0)\n",
    "corrMatrix = onto_values.corr()\n",
    "corrMatrix = corrMatrix.fillna(0)\n",
    "col_row_to_drop = []\n",
    "for i in range(len(corrMatrix)):\n",
    "    if corrMatrix.iloc[i,i] == 0:\n",
    "        col_row_to_drop.append(corrMatrix.columns[i])\n",
    "        \n",
    "corrMatrix.drop(col_row_to_drop, axis=1, inplace=True)\n",
    "corrMatrix.drop(col_row_to_drop, axis=0, inplace=True)\n",
    "# Use Seaborn to cluster data\n",
    "g = sns.clustermap(corrMatrix, cmap=\"coolwarm\", figsize=(20,20))\n",
    "plt.close()\n",
    "#trace_heatmap = go.Heatmap(x=g.data2d.columns, y=g.data2d.columns,\n",
    "#                    z=g.data2d, colorscale=\"RdBu\")\n",
    "trace_heatmap = go.Heatmap(x=corrMatrix.columns, y=corrMatrix.columns,\n",
    "                    z=corrMatrix, colorscale=\"RdBu\")\n",
    "data = [trace_heatmap]\n",
    "layout = go.Layout(title=\"Histology ontology terms correlation matrix (threshold n>10)\", showlegend=True, width=1000, height=1000, yaxis={\"scaleanchor\":\"x\"})\n",
    "figure = go.Figure(data=data, layout=layout)\n",
    "figure.show()\n",
    "figure.write_json(\"data/correlation_matrix.json\")"
   ],
   "outputs": [],
   "metadata": {}
  },
  {
   "cell_type": "code",
   "execution_count": null,
   "source": [
    "from sklearn.preprocessing import LabelEncoder\n",
    "import numpy as np\n",
    "from sklearn.decomposition import PCA\n",
    "\n",
    "# Target - Data DF\n",
    "df = pd.read_csv(\"data/histo_feature.csv\")\n",
    "df = df.iloc[:,9:]\n",
    "# Drop les OTHER pour l'instant (que 3 classes)\n",
    "df = df.drop(df[df[\"conclusion\"]==\"OTHER\"].index)\n",
    "df = df.drop(df[df[\"conclusion\"]==\"UNCLEAR\"].index)\n",
    "del df[\"datetime\"]\n",
    "# Enlever les col remplis de NaN ou avec moins de 5 valeur (annotations)\n",
    "df = df.dropna(axis=1, thresh=5)\n",
    "df.fillna(0, inplace=True)\n",
    "df = df.replace({0.25:1, 0.5:1, 0.75:1})\n",
    "# Séparer les features des labels et onehot encoding des labels\n",
    "# NM:2, COM:1, UNCLEAR:4, CNM:0, OTHER:3\n",
    "X, Y = df.iloc[:,1:],df.iloc[:,0]\n",
    "\n",
    "label_encoder = LabelEncoder()\n",
    "label_encoder = label_encoder.fit(Y)\n",
    "label_encoded_y = label_encoder.transform(Y)\n",
    "\n",
    "pca = PCA(2)\n",
    "projected = pca.fit_transform(X)\n",
    "\n",
    "plt.scatter(projected[:, 0], projected[:, 1],\n",
    "            c=label_encoded_y, edgecolor='none', alpha=0.5,\n",
    "            cmap=plt.cm.get_cmap('Set1', 3))\n",
    "plt.xlabel('component 1')\n",
    "plt.ylabel('component 2')\n",
    "plt.colorbar()"
   ],
   "outputs": [],
   "metadata": {}
  },
  {
   "cell_type": "code",
   "execution_count": null,
   "source": [
    "pca = PCA().fit(X)\n",
    "plt.plot(np.cumsum(pca.explained_variance_ratio_))\n",
    "plt.xlabel('number of components')\n",
    "plt.ylabel('cumulative explained variance');"
   ],
   "outputs": [],
   "metadata": {}
  }
 ],
 "metadata": {
  "interpreter": {
   "hash": "7184f579ec78d0519e67e00d87a307dc220926cb31d7038472821cdc0bd66c71"
  },
  "kernelspec": {
   "display_name": "Python 3.8.5  ('venv': venv)",
   "name": "python3"
  },
  "language_info": {
   "name": "python",
   "version": ""
  },
  "orig_nbformat": 3
 },
 "nbformat": 4,
 "nbformat_minor": 2
}