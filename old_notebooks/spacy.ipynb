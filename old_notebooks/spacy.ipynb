{
 "cells": [
  {
   "cell_type": "markdown",
   "metadata": {},
   "source": [
    "# Prototype of text-mining of histological reports"
   ]
  },
  {
   "cell_type": "markdown",
   "metadata": {},
   "source": [
    "### First: perform OCR and detect sections"
   ]
  },
  {
   "cell_type": "code",
   "execution_count": null,
   "metadata": {},
   "outputs": [],
   "source": [
    "import pytesseract\n",
    "import cv2\n",
    "import numpy as np\n",
    "from pdf2image import convert_from_path\n",
    "import spacy\n",
    "from fuzzywuzzy import fuzz\n",
    "\n",
    "\n",
    "class Rapport:\n",
    "    \"\"\"PDF File class used to detect text and analyse it\"\"\"\n",
    "\n",
    "    def __init__(self, path, lang):\n",
    "        self.path = path\n",
    "        self.lang = lang\n",
    "        self.image_stack = []\n",
    "        self.raw_text = \"\"\n",
    "        self.text_as_list = []\n",
    "        self.nlp = spacy.load(\"fr_dep_news_trf\")\n",
    "        self.section = {}\n",
    "        self.section_text = {}\n",
    "        self.section_names = [\n",
    "            \"Hématéine-éosine et trichrome de Gomori\",\n",
    "            \"Activité myosine ATPasique\",\n",
    "            \"Différenciation des fibres :\",\n",
    "            \"Répartition numérique des fibres :\",\n",
    "            \"Répartition topographique des différents types de fibres\",\n",
    "            \"Activité myosine ATPasique\",\n",
    "            \"Activités oxydatives (SDH, NADH-TR\",\n",
    "            \"Cox :\",\n",
    "            \"PAS :\",\n",
    "            \"Phosphorylases :\",\n",
    "            \"Soudans :\",\n",
    "            \"Soudan :\",\n",
    "            \"Lipides :\",\n",
    "            \"Lipides soudan:\",\n",
    "            \"Technique de Koëlle\",\n",
    "            \"CONCLUSIONS :\",\n",
    "        ]\n",
    "\n",
    "    def get_grayscale(self, image):\n",
    "        \"\"\"Convert image to grayscale\"\"\"\n",
    "        return cv2.cvtColor(image, cv2.COLOR_BGR2GRAY)\n",
    "\n",
    "    def thresholding(self, image):\n",
    "        \"\"\"Treshold pixel of greyscaled image\"\"\"\n",
    "        return cv2.threshold(image, 0, 255, cv2.THRESH_BINARY + cv2.THRESH_OTSU)[1]\n",
    "\n",
    "    def pdf_to_text(self):\n",
    "        \"\"\"Convert PDF path to image to text using Tesseract with langage setting. OEM 1 PSM 1\"\"\"\n",
    "        self.image_stack = convert_from_path(self.path)\n",
    "        page_list = []\n",
    "        # Loop on each image (page) of the PDF file\n",
    "        for image in self.image_stack:\n",
    "            open_cv_image = np.array(image)\n",
    "            # Convert RGB to BGR\n",
    "            open_cv_image = open_cv_image[:, :, ::-1].copy()\n",
    "            # Preprocess image\n",
    "            open_cv_image = self.thresholding(self.get_grayscale(open_cv_image))\n",
    "            # Tesseract OCR\n",
    "            custom_config = r\"-l \" + self.lang + r\" --oem 1 --psm 1 \"\n",
    "            text_page = pytesseract.image_to_string(open_cv_image, config=custom_config)\n",
    "            # Save text results\n",
    "            page_list.append(text_page)\n",
    "        self.raw_text = \"\\n\".join(page_list)\n",
    "        self.text_as_list = self.raw_text.split(\"\\n\")\n",
    "        return self.raw_text\n",
    "\n",
    "    def detect_sections(self):\n",
    "        index = 0\n",
    "        non_sorted_dict = {}\n",
    "        for i in self.text_as_list:\n",
    "            for j in self.section_names:\n",
    "                if fuzz.partial_ratio(j, i) > 90:\n",
    "                    non_sorted_dict[j] = index\n",
    "            index += 1\n",
    "        sorted_tuple = sorted(\n",
    "            non_sorted_dict.items(), key=lambda x: x[1], reverse=False\n",
    "        )\n",
    "        for i in sorted_tuple:\n",
    "            # Dict section name : line index of begining \n",
    "            self.section[i[0]] = i[1]\n",
    "\n",
    "    def extract_section_text(self):\n",
    "        self.section_text[list(self.section.items())[0][0]] = \" \".join(\n",
    "            self.text_as_list[: list(self.section.items())[0][1]]\n",
    "        )\n",
    "\n",
    "        for i in range(len(self.section) - 1):\n",
    "            self.section_text[list(self.section.items())[i][0]] = \" \".join(\n",
    "                self.text_as_list[\n",
    "                    list(self.section.items())[i][1] : list(self.section.items())[\n",
    "                        i + 1\n",
    "                    ][1]\n",
    "                ]\n",
    "            )\n",
    "        self.section_text[list(self.section.items())[-1][0]] = \" \".join(\n",
    "            self.text_as_list[list(self.section.items())[-1][1] :]\n",
    "        )\n",
    "\n",
    "\n",
    "rapport_pdf = Rapport(path=\"DNM2.pdf\", lang=\"fra\")\n",
    "rapport_pdf.pdf_to_text()\n",
    "rapport_pdf.detect_sections()\n",
    "rapport_pdf.extract_section_text()\n",
    "    "
   ]
  },
  {
   "cell_type": "code",
   "execution_count": null,
   "metadata": {},
   "outputs": [],
   "source": [
    "#from negspacy.negation import Negex\n",
    "#nlp = spacy.load(\"fr_core_news_lg\")\n",
    "nlp = spacy.load(\"fr_dep_news_trf\")\n",
    "#negex = Negex(nlp)\n",
    "#nlp.add_pipe(negex, last=True)"
   ]
  },
  {
   "cell_type": "code",
   "execution_count": null,
   "metadata": {},
   "outputs": [],
   "source": [
    "keywords_list = []\n",
    "sequence = rapport_pdf.section_text[\"Hématéine-éosine et trichrome de Gomori\"]\n",
    "doc = nlp(sequence.lower())\n",
    "\n",
    "for sentence in doc.sents:\n",
    "    keygroup = []\n",
    "    #print(sentence)\n",
    "    for token in sentence:\n",
    "        if token.pos_ == \"PUNCT\" or token.pos_ == \"SPACE\":\n",
    "            continue\n",
    "        keygroup.append(token.text)\n",
    "    print(\"Sentence: \", ' '.join(keygroup))"
   ]
  }
 ],
 "metadata": {
  "interpreter": {
   "hash": "916dbcbb3f70747c44a77c7bcd40155683ae19c65e1c03b4aa3499c5328201f1"
  },
  "kernelspec": {
   "display_name": "Python 3.8.5 64-bit",
   "name": "python3"
  },
  "language_info": {
   "name": "python",
   "version": ""
  },
  "metadata": {
   "interpreter": {
    "hash": "a7b2aef7dbbcc6691528487cd260789ea52cdb3a323fdc1823105aeb6162a945"
   }
  },
  "orig_nbformat": 2
 },
 "nbformat": 4,
 "nbformat_minor": 2
}