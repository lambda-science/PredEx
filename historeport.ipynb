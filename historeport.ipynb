{
 "cells": [
  {
   "cell_type": "code",
   "execution_count": null,
   "metadata": {},
   "outputs": [],
   "source": [
    "import pandas as pd\n",
    "import sqlite3\n",
    "import json\n",
    "import matplotlib.pyplot as plt\n",
    "import seaborn as sns\n",
    "import numpy as np\n",
    "sns.set_style(\"whitegrid\")\n",
    "con = sqlite3.connect(\"app.db\")\n",
    "df = pd.read_sql_query(\"SELECT * from report_histo\", con)\n",
    "excel = pd.read_excel(\"Dossier_Patient_clean_myocapt_KC_v6.xlsx\")"
   ]
  },
  {
   "cell_type": "code",
   "execution_count": null,
   "metadata": {},
   "outputs": [],
   "source": [
    "def table_to_df(df):\n",
    "    # Transformation de la table SQLite en dataframe en parsant l'arbre JSON\n",
    "    # Return un dictionnaire et une liste de colonnes (les features histo)\n",
    "    tree_as_dict = {}\n",
    "    features_col = []\n",
    "    for index, row in df.iterrows():\n",
    "        tree_as_dict.setdefault(\"id\", []).append(row[0])\n",
    "        tree_as_dict.setdefault(\"patient_id\", []).append(row[1])\n",
    "        tree_as_dict.setdefault(\"expert_id\", []).append(row[2])\n",
    "        tree_as_dict.setdefault(\"biopsie_id\", []).append(row[3])\n",
    "        tree_as_dict.setdefault(\"muscle_prelev\", []).append(row[4])\n",
    "        tree_as_dict.setdefault(\"age_biopsie\", []).append(row[5])\n",
    "        tree_as_dict.setdefault(\"date_envoie\", []).append(row[6])\n",
    "        tree_as_dict.setdefault(\"gene_diag\", []).append(row[7])\n",
    "        tree_as_dict.setdefault(\"comment\", []).append(row[9])\n",
    "        tree_as_dict.setdefault(\"conclusion\", []).append(row[10])\n",
    "        tree_as_dict.setdefault(\"datetime\", []).append(row[11])\n",
    "\n",
    "        my_tree = json.loads(row[8])\n",
    "        for feature in my_tree:\n",
    "            tree_as_dict.setdefault(feature[\"text\"], []).append(float(feature[\"data\"].get(\"presence\", -0.25)))\n",
    "            if index==0:\n",
    "                features_col.append(feature[\"text\"])\n",
    "    return tree_as_dict, features_col\n",
    "tree_as_dict, features_col = table_to_df(df)\n",
    "df2 = pd.DataFrame.from_dict(tree_as_dict)\n",
    "\n",
    "# Simplifier le diagnostic en regroupant les sous-type sous 5 catégories: Némaline, Core Myo, CentroNuc ou UNCLEAR ou OTHER\n",
    "df2 = df2.replace({\"COM_CCD\":\"COM\", \"COM_MMM\":\"COM\", \"NM_CAP\":\"NM\", \"CFTD\":\"OTHER\", \"NON_CM\":\"OTHER\",\"CM\":\"UNCLEAR\"})\n",
    "# Simplification de l'encodage:\n",
    "# No Info (-0.25) -> 0. \n",
    "# Absence reste 0\n",
    "# Et Présence faible/modéré/forte (0.25 0.5 0.75) -> 1\n",
    "df2 = df2.replace({-0.25:np.nan, 0.25:1, 0.5:1, 0.75:1})\n"
   ]
  },
  {
   "cell_type": "code",
   "execution_count": null,
   "metadata": {},
   "outputs": [],
   "source": [
    "muscle_prelev = df2[\"muscle_prelev\"].value_counts()\n",
    "# Empty index to N/A\n",
    "as_list = muscle_prelev.index.tolist()\n",
    "idx = as_list.index('')\n",
    "as_list[idx] = 'N/A'\n",
    "muscle_prelev.index = as_list\n",
    "sns.barplot(x=muscle_prelev.index, y=muscle_prelev)\n",
    "var = plt.xticks(rotation=25)"
   ]
  },
  {
   "cell_type": "code",
   "execution_count": null,
   "metadata": {},
   "outputs": [],
   "source": [
    "age_biopsie = df2[\"age_biopsie\"].value_counts()\n",
    "bebe = age_biopsie.where(age_biopsie.index<=2).sum()\n",
    "enfant = age_biopsie.where((age_biopsie.index>2) & (age_biopsie.index<18)).sum()\n",
    "adulte = age_biopsie.where(age_biopsie.index>=18).sum()\n",
    "g = sns.barplot(x=[\"Bébé (<=2ans)\", \"Enfant (3-17ans)\", \"Adulte (>=18ans)\"], y=[bebe, enfant, adulte])"
   ]
  },
  {
   "cell_type": "code",
   "execution_count": null,
   "metadata": {},
   "outputs": [],
   "source": [
    "gene_diag = df2[\"gene_diag\"].value_counts()\n",
    "fig_dims = (8, 4)\n",
    "fig, ax = plt.subplots(figsize=fig_dims)\n",
    "sns.barplot(x=gene_diag.index, y=gene_diag, ax=ax)\n",
    "var = plt.xticks(rotation=90)"
   ]
  },
  {
   "cell_type": "code",
   "execution_count": null,
   "metadata": {},
   "outputs": [],
   "source": [
    "# Merge sub types for stats\n",
    "conclusion = df2[\"conclusion\"].value_counts()\n",
    "g = sns.barplot(x=conclusion.index, y=conclusion)"
   ]
  },
  {
   "cell_type": "code",
   "execution_count": null,
   "metadata": {},
   "outputs": [],
   "source": [
    "# Les features les plus présent chez les NM\n",
    "df2.where(df2[\"conclusion\"]==\"NM\")[features_col].sum().sort_values(ascending=False)[0:10]"
   ]
  },
  {
   "cell_type": "code",
   "execution_count": null,
   "metadata": {},
   "outputs": [],
   "source": [
    "# Les features les plus présent chez les cores myo\n",
    "df2.where(df2[\"conclusion\"]==\"COM\")[features_col].sum().sort_values(ascending=False)[0:10]"
   ]
  },
  {
   "cell_type": "code",
   "execution_count": null,
   "metadata": {},
   "outputs": [],
   "source": [
    "# Les features les plus présent chez les Centro nuclear myo\n",
    "df2.where(df2[\"conclusion\"]==\"CNM\")[features_col].sum().sort_values(ascending=False)[0:10]"
   ]
  },
  {
   "cell_type": "code",
   "execution_count": null,
   "metadata": {},
   "outputs": [],
   "source": [
    "# Pour le learning futur: sortir la matrice de 0/1 en .csv\n",
    "df2 = df2.replace({\"UNCLEAR\":\"OTHER\"})\n",
    "df2.to_csv(\"histo_feature.csv\", index=False)"
   ]
  }
 ],
 "metadata": {
  "kernelspec": {
   "display_name": "Python 3.8.5 64-bit ('venv')",
   "name": "python385jvsc74a57bd0a8deeaac9d110d020cf02cb90130615d601eccb7528fd115dac771989d3df95a"
  },
  "language_info": {
   "codemirror_mode": {
    "name": "ipython",
    "version": 3
   },
   "file_extension": ".py",
   "mimetype": "text/x-python",
   "name": "python",
   "nbconvert_exporter": "python",
   "pygments_lexer": "ipython3",
   "version": "3.8.5"
  },
  "metadata": {
   "interpreter": {
    "hash": "a8deeaac9d110d020cf02cb90130615d601eccb7528fd115dac771989d3df95a"
   }
  },
  "orig_nbformat": 3
 },
 "nbformat": 4,
 "nbformat_minor": 2
}