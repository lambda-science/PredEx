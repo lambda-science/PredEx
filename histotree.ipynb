{
 "cells": [
  {
   "cell_type": "code",
   "execution_count": null,
   "metadata": {},
   "outputs": [],
   "source": [
    "import warnings\n",
    "warnings.filterwarnings('ignore')\n",
    "import pandas as pd\n",
    "import numpy as np\n",
    "import matplotlib.pyplot as plt\n",
    "from sklearn.ensemble import RandomForestClassifier\n",
    "from sklearn.svm import SVC\n",
    "from sklearn.preprocessing import LabelEncoder\n",
    "from sklearn.model_selection import cross_val_score\n",
    "from sklearn.metrics import plot_confusion_matrix\n",
    "from sklearn.model_selection import StratifiedKFold\n",
    "from sklearn.model_selection import learning_curve "
   ]
  },
  {
   "cell_type": "markdown",
   "metadata": {},
   "source": [
    "## RandomForest Model"
   ]
  },
  {
   "cell_type": "code",
   "execution_count": null,
   "metadata": {},
   "outputs": [],
   "source": [
    "# Target - Data DF\n",
    "df = pd.read_csv(\"data/histo_feature.csv\")\n",
    "df = df.iloc[:,9:]\n",
    "# Drop les OTHER pour l'instant (que 3 classes)\n",
    "df = df.drop(df[df[\"conclusion\"]==\"OTHER\"].index)\n",
    "df = df.drop(df[df[\"conclusion\"]==\"UNCLEAR\"].index)\n",
    "del df[\"datetime\"]\n",
    "# Enlever les col remplis de NaN ou avec moins de 5 valeur (annotations)\n",
    "df = df.dropna(axis=1, thresh=5)\n",
    "df.fillna(0, inplace=True)\n",
    "df = df.replace({0.25:1, 0.5:1, 0.75:1})\n",
    "# Séparer les features des labels et onehot encoding des labels\n",
    "# NM:2, COM:1, UNCLEAR:4, CNM:0, OTHER:3\n",
    "X, Y = df.iloc[:,1:],df.iloc[:,0]\n",
    "label_encoder = LabelEncoder()\n",
    "label_encoder = label_encoder.fit(Y)\n",
    "label_encoded_y = label_encoder.transform(Y)\n",
    "\n",
    "\n",
    "# clf = RandomForestClassifier(criterion=\"entropy\", max_depth=4, n_jobs=8, class_weight=\"balanced\")\n",
    "clf = SVC(class_weight=\"balanced\", probability=True, random_state=777)\n",
    "cv = StratifiedKFold(n_splits=5, shuffle=True, random_state=777)\n",
    "train_sizes, train_scores, test_scores = learning_curve(clf, X, label_encoded_y, cv=cv, scoring=\"accuracy\")\n",
    "clf = clf.fit(X, label_encoded_y)\n",
    "\n",
    "\n",
    "# Evalution de la cross-val\n",
    "print(\"Cross-Validation Scores:\")\n",
    "print(cross_val_score(clf, X, label_encoded_y, cv=cv, scoring=\"accuracy\"))\n",
    "plt.plot(range(5), cross_val_score(clf, X, label_encoded_y, cv=cv, scoring=\"accuracy\"), 'o-', color=\"r\",\n",
    "                 label=\"Cross-Validation Accuracy\")\n",
    "ylim = plt.ylim(0,1)\n",
    "xticks = plt.xticks(range(5))"
   ]
  },
  {
   "cell_type": "code",
   "execution_count": null,
   "metadata": {},
   "outputs": [],
   "source": [
    "train_scores_mean = np.mean(train_scores, axis=1)\n",
    "test_scores_mean = np.mean(test_scores, axis=1)\n",
    "train_scores_std = np.std(train_scores, axis=1)\n",
    "test_scores_std = np.std(test_scores, axis=1)\n",
    "\n",
    "plt.plot(train_sizes, train_scores_mean, 'o-', color=\"r\",\n",
    "                 label=\"Training score\")\n",
    "plt.plot(train_sizes, test_scores_mean, 'o-', color=\"g\",\n",
    "                 label=\"Cross-validation score\")\n",
    "plt.fill_between(train_sizes, train_scores_mean - train_scores_std,\n",
    "                         train_scores_mean + train_scores_std, alpha=0.1,\n",
    "                         color=\"r\")\n",
    "plt.fill_between(train_sizes, test_scores_mean - test_scores_std,\n",
    "                         test_scores_mean + test_scores_std, alpha=0.1,\n",
    "                         color=\"g\")\n",
    "plt.ylim(0.4,1.05)\n",
    "plt.title(\"Learning Curve (SVM). Mean Accuracy +- 1 std\")\n",
    "plt.xlabel(\"Training Examples\")\n",
    "plt.ylabel(\"Accuracy Score\")\n",
    "plt.legend(loc=\"best\")\n",
    "plt.grid()\n",
    "plt.show()\n"
   ]
  },
  {
   "cell_type": "code",
   "execution_count": null,
   "metadata": {},
   "outputs": [],
   "source": [
    "import pickle\n",
    "#pickle.dump(clf, open(\"model/random_forest.sav\", 'wb'))\n",
    "#pickle.dump(X.columns.tolist(), open(\"model/features_col.list\", 'wb'))"
   ]
  },
  {
   "cell_type": "code",
   "execution_count": null,
   "metadata": {},
   "outputs": [],
   "source": [
    "plot_confusion_matrix(clf, X, label_encoded_y, display_labels=[\"CNM\",\"COM\",\"NM\"])"
   ]
  },
  {
   "cell_type": "code",
   "execution_count": null,
   "metadata": {},
   "outputs": [],
   "source": [
    "FEATURE_LIST = pickle.load(open(os.path.join(\"data\", \"features_col.list\"), \"rb\"))\n",
    "df = pd.read_csv(\"data/histo_feature.csv\")\n",
    "df = df.iloc[:,9:]\n",
    "# Drop les OTHER pour l'instant (que 3 classes)\n",
    "df = df[df[\"conclusion\"]==\"UNCLEAR\"]\n",
    "del df[\"datetime\"]\n",
    "# Enlever les col remplis de NaN ou avec moins de 5 valeur (annotations)\n",
    "df.fillna(0, inplace=True)\n",
    "df = df.replace({0.25:1, 0.5:1, 0.75:1})\n",
    "df = df[FEATURE_LIST]"
   ]
  },
  {
   "cell_type": "code",
   "execution_count": null,
   "metadata": {},
   "outputs": [],
   "source": [
    "# Séparer les features des labels et onehot encoding des labels\n",
    "# NM:2, COM:1, UNCLEAR:4, CNM:0, OTHER:3\n",
    "X = df\n",
    "pred_unclear = []\n",
    "labels={0:\"CNM\",1:\"COM\",2:\"NM\"}\n",
    "for i in range(len(X)):\n",
    "    \n",
    "    class_predict = clf.predict([X.iloc[i,:]])\n",
    "    proba_class = np.amax(clf.predict_proba([X.iloc[i,:]]))\n",
    "    if proba_class > 0.5:\n",
    "        pred_unclear.append(labels[class_predict[0]])\n",
    "    else:\n",
    "        pred_unclear.append(\"No_Pred\")\n"
   ]
  },
  {
   "cell_type": "code",
   "execution_count": null,
   "metadata": {},
   "outputs": [],
   "source": [
    "import seaborn as sns\n",
    "\n",
    "pred_series = pd.Series(pred_unclear).value_counts()\n",
    "fig_dims = (6, 4)\n",
    "fig, ax = plt.subplots(figsize=fig_dims)\n",
    "g = sns.barplot(x=pred_series.index, y=pred_series, ax=ax, palette=[\"tab:green\", \"tab:orange\", \"tab:blue\",\"tab:red\"])\n",
    "for i in range(len(pred_series)):\n",
    "    g.text(i, pred_series[i]+0.1, pred_series[i], color='black', ha=\"center\")"
   ]
  }
 ],
 "metadata": {
  "interpreter": {
   "hash": "7184f579ec78d0519e67e00d87a307dc220926cb31d7038472821cdc0bd66c71"
  },
  "kernelspec": {
   "display_name": "Python 3.8.5  ('venv': venv)",
   "name": "python3"
  },
  "language_info": {
   "codemirror_mode": {
    "name": "ipython",
    "version": 3
   },
   "file_extension": ".py",
   "mimetype": "text/x-python",
   "name": "python",
   "nbconvert_exporter": "python",
   "pygments_lexer": "ipython3",
   "version": "3.8.5"
  },
  "orig_nbformat": 3
 },
 "nbformat": 4,
 "nbformat_minor": 2
}