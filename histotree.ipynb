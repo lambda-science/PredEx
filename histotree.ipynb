{
 "cells": [
  {
   "cell_type": "code",
   "execution_count": null,
   "metadata": {},
   "outputs": [],
   "source": [
    "import warnings\n",
    "warnings.filterwarnings('ignore')\n",
    "import pandas as pd\n",
    "import numpy as np\n",
    "import xgboost as xgb\n",
    "import matplotlib.pyplot as plt\n",
    "from sklearn import model_selection\n",
    "from sklearn.ensemble import RandomForestClassifier\n",
    "from sklearn.metrics import mean_squared_error\n",
    "from sklearn.preprocessing import LabelEncoder\n",
    "from sklearn.model_selection import train_test_split, cross_val_score\n",
    "from sklearn.metrics import accuracy_score, confusion_matrix, plot_confusion_matrix"
   ]
  },
  {
   "cell_type": "markdown",
   "metadata": {},
   "source": [
    "## XGBOOST Model"
   ]
  },
  {
   "cell_type": "code",
   "execution_count": null,
   "metadata": {},
   "outputs": [],
   "source": [
    "# Target - Data DF\n",
    "df = pd.read_csv(\"histo_feature.csv\")\n",
    "df = df.iloc[:,9:]\n",
    "# Drop les OTHER pour l'instant (que 3 classes)\n",
    "df = df.drop(df[df[\"conclusion\"]==\"OTHER\"].index)\n",
    "del df[\"datetime\"]\n",
    "# Enlever les col remplis de NaN ou avec moins de 5 valeur (annotations)\n",
    "df = df.dropna(axis=1, thresh=5)\n",
    "# Séparer les features des labels et onehot encoding des labels\n",
    "# NM:2, COM:1, CNM:0, OTHER:3\n",
    "X, Y = df.iloc[:,1:],df.iloc[:,0]\n",
    "label_encoder = LabelEncoder()\n",
    "label_encoder = label_encoder.fit(Y)\n",
    "label_encoded_y = label_encoder.transform(Y)\n",
    "# Split Train / Test\n",
    "X_train, X_test, y_train, y_test = train_test_split(X, label_encoded_y, test_size=0.2, random_state=777, shuffle=True, stratify=label_encoded_y)\n",
    "model = xgb.XGBClassifier()\n",
    "model.fit(X_train, y_train)\n",
    "# Make predictions for test data\n",
    "y_pred = model.predict(X_test)\n",
    "predictions = [round(value) for value in y_pred]\n",
    "# Evaluate predictions\n",
    "accuracy = accuracy_score(y_test, predictions)\n",
    "print(\"Accuracy: %.2f%%\" % (accuracy * 100.0))"
   ]
  },
  {
   "cell_type": "markdown",
   "metadata": {},
   "source": [
    "## RandomForest Model"
   ]
  },
  {
   "cell_type": "code",
   "execution_count": null,
   "metadata": {},
   "outputs": [],
   "source": [
    "# Target - Data DF\n",
    "df = pd.read_csv(\"histo_feature.csv\")\n",
    "df = df.iloc[:,9:]\n",
    "# Drop les OTHER pour l'instant (que 3 classes)\n",
    "df = df.drop(df[df[\"conclusion\"]==\"OTHER\"].index)\n",
    "del df[\"datetime\"]\n",
    "# Enlever les col remplis de NaN ou avec moins de 5 valeur (annotations)\n",
    "df = df.dropna(axis=1, thresh=5)\n",
    "df.fillna(0, inplace=True)\n",
    "#df = df.replace({0.25:1, 0.5:1, 0.75:1})\n",
    "# Séparer les features des labels et onehot encoding des labels\n",
    "# NM:2, COM:1, UNCLEAR:4, CNM:0, OTHER:3\n",
    "X, Y = df.iloc[:,1:],df.iloc[:,0]\n",
    "label_encoder = LabelEncoder()\n",
    "label_encoder = label_encoder.fit(Y)\n",
    "label_encoded_y = label_encoder.transform(Y)\n",
    "# Split Train / Test\n",
    "X_train, X_test, y_train, y_test = train_test_split(X, label_encoded_y, test_size=0.2, random_state=777, shuffle=True, stratify=label_encoded_y)\n",
    "clf = RandomForestClassifier()\n",
    "clf = clf.fit(X_train, y_train)\n",
    "print(np.mean(cross_val_score(clf, X_train, y_train, cv=5)))\n",
    "# Make predictions for test data\n",
    "y_pred = clf.predict(X_test)\n",
    "predictions = [round(value) for value in y_pred]\n",
    "# Evaluate predictions\n",
    "accuracy = accuracy_score(y_test, predictions)\n",
    "print(\"Accuracy: %.2f%%\" % (accuracy * 100.0))"
   ]
  },
  {
   "cell_type": "code",
   "execution_count": null,
   "metadata": {},
   "outputs": [],
   "source": [
    "from sklearn.model_selection import StratifiedShuffleSplit, LeaveOneOut\n",
    "from sklearn.model_selection import learning_curve\n",
    "def plot_learning_curve(estimator, title, X, y, axes=None, ylim=None, cv=None,\n",
    "                        n_jobs=None, train_sizes=np.linspace(.1, 1.0, 5)):\n",
    "\n",
    "    if axes is None:\n",
    "        _, axes = plt.subplots(1, 3, figsize=(20, 5))\n",
    "\n",
    "    axes.set_title(title)\n",
    "    if ylim is not None:\n",
    "        axes.set_ylim(*ylim)\n",
    "    axes.set_xlabel(\"Training examples\")\n",
    "    axes.set_ylabel(\"Score\")\n",
    "\n",
    "    train_sizes, train_scores, test_scores, fit_times, _ = \\\n",
    "        learning_curve(estimator, X, y, cv=cv, n_jobs=n_jobs,\n",
    "                       train_sizes=train_sizes,\n",
    "                       return_times=True)\n",
    "    train_scores_mean = np.mean(train_scores, axis=1)\n",
    "    train_scores_std = np.std(train_scores, axis=1)\n",
    "    test_scores_mean = np.mean(test_scores, axis=1)\n",
    "    test_scores_std = np.std(test_scores, axis=1)\n",
    "\n",
    "\n",
    "    # Plot learning curve\n",
    "    axes.grid()\n",
    "    axes.plot(train_sizes, train_scores_mean, 'o-', color=\"r\",\n",
    "                 label=\"Training score\")\n",
    "    axes.plot(train_sizes, test_scores_mean, 'o-', color=\"g\",\n",
    "                 label=\"Cross-validation score\")\n",
    "    axes.legend(loc=\"best\")\n",
    "    return plt\n",
    "\n",
    "\n",
    "X_train, X_test, y_train, y_test = train_test_split(X, label_encoded_y, test_size=0.2, random_state=107, shuffle=True, stratify=label_encoded_y)\n",
    "clf = RandomForestClassifier(criterion=\"entropy\", max_depth=4, n_jobs=8)\n",
    "clf = clf.fit(X_train, y_train)\n",
    "fig, axes = plt.subplots(1, 1, figsize=(7, 7))\n",
    "title = \"Learning Curves (Random Forest)\"\n",
    "plot_learning_curve(clf, title, X_train, y_train, axes=axes, ylim=(0, 1.05),\n",
    "                    cv=LeaveOneOut())\n",
    "plt.show()\n",
    "\n",
    "# Make predictions for test data\n",
    "y_pred = clf.predict(X_test)\n",
    "predictions = [round(value) for value in y_pred]\n",
    "\n",
    "# Evaluate predictions\n",
    "plot_confusion_matrix(clf, X_test, y_test, display_labels=[\"CNM\",\"COM\",\"NM\"])\n",
    "accuracy = accuracy_score(y_test, predictions)\n",
    "print(\"Accuracy: %.2f%%\" % (accuracy * 100.0))\n"
   ]
  },
  {
   "cell_type": "code",
   "execution_count": null,
   "metadata": {},
   "outputs": [],
   "source": [
    "# TO-DO: try to predict unclear with the model"
   ]
  }
 ],
 "metadata": {
  "kernelspec": {
   "display_name": "Python 3.8.5 64-bit ('venv')",
   "name": "python385jvsc74a57bd0a8deeaac9d110d020cf02cb90130615d601eccb7528fd115dac771989d3df95a"
  },
  "language_info": {
   "codemirror_mode": {
    "name": "ipython",
    "version": 3
   },
   "file_extension": ".py",
   "mimetype": "text/x-python",
   "name": "python",
   "nbconvert_exporter": "python",
   "pygments_lexer": "ipython3",
   "version": "3.8.5"
  },
  "orig_nbformat": 2
 },
 "nbformat": 4,
 "nbformat_minor": 2
}