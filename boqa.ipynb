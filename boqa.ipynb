{
 "cells": [
  {
   "cell_type": "code",
   "execution_count": null,
   "metadata": {},
   "outputs": [],
   "source": [
    "import json\n",
    "import pandas as pd\n",
    "import sqlite3\n",
    "import numpy as np\n",
    "from math import pow\n",
    "import random\n",
    "con = sqlite3.connect(\"data/app.db\")\n",
    "df = pd.read_sql_query(\"SELECT * from report_histo\", con)"
   ]
  },
  {
   "cell_type": "code",
   "execution_count": null,
   "metadata": {},
   "outputs": [],
   "source": [
    "def boqa(alpha, beta, query, items_stat):\n",
    "    hidden = {}\n",
    "    p = {}\n",
    "    a = {}\n",
    "    a_init = 0\n",
    "    # Pour chaque maladie\n",
    "    for disease in items_stat:\n",
    "        # On initialise de Hidden Layer avec les valeurs de stats\n",
    "        for term in query:\n",
    "            if term in items_stat[disease][\"feature\"].keys():\n",
    "                proba = items_stat[disease][\"feature\"][term]/100\n",
    "                hidden[term] = np.random.choice([1,0], p=[proba,1-proba])\n",
    "            else: hidden[term] = 0\n",
    "        # On calcul la cardinalité des termes H et Q\n",
    "        m = matrix_m(query, hidden)\n",
    "        a[disease] = pow(beta, m[0,1]) * pow(1-beta, m[1,1]) * pow(1-alpha, m[0,0]) * pow(alpha, m[1,0])\n",
    "        a_init += a[disease]\n",
    "    for disease in items_stat:\n",
    "        p[disease] = a[disease] / a_init\n",
    "    return p\n",
    "\n",
    "def matrix_m(Q, H):\n",
    "    matrix_count = np.empty((2,2))\n",
    "    if Q.keys() != H.keys():\n",
    "        raise Exception(\"Error Ontology not matching stats\")\n",
    "    for x in range(2):\n",
    "        for y in range(2):\n",
    "            count = 0\n",
    "            for i in Q:\n",
    "                if Q[i] == x and H[i] == y:\n",
    "                    count += 1\n",
    "            matrix_count[x,y] = count\n",
    "    return matrix_count\n",
    "\n",
    "def subsample_query(query):\n",
    "    query_filt = {k: v for k, v in query.items() if v == 1}\n",
    "    try: keys = random.sample(list(query_filt), 6)\n",
    "    except: keys = query_filt\n",
    "\n",
    "    for k in query.keys():\n",
    "        if k not in keys:\n",
    "            query[k] = 0\n",
    "    return query\n",
    "\n",
    "def propagate_annotations(query):\n",
    "    pass\n",
    "\n",
    "def boqa_monte_carlo(query, items_stat, n_indiv=100, alpha=0.05, beta=0.05, ):\n",
    "    results = []\n",
    "    for i in range(n_indiv):\n",
    "        result = boqa(alpha, beta, query, items_stat)\n",
    "        for key,value in result.items():\n",
    "            if value >0.5:\n",
    "                results.append(key)\n",
    "    dd = {x:results.count(x) for x in set(results)}\n",
    "    return [ max(dd, key=dd.get), max(dd.values()) ]\n"
   ]
  },
  {
   "cell_type": "code",
   "execution_count": null,
   "metadata": {},
   "outputs": [],
   "source": [
    "items_stat = json.load(open(\"data/stat_per_diag.json\", \"r\"))\n",
    "items_stat.pop('OTHER', None)\n",
    "my_tree = json.loads(df.iloc[0,8])\n",
    "query = {}\n",
    "replace_dict = {-0.25: 0, 0.25: 1, 0.5: 1, 0.75: 1, 1:1, 0:0}\n",
    "for feature in my_tree:\n",
    "    value = float(feature[\"data\"].get(\"presence\", -0.25))\n",
    "    query[feature[\"text\"]] = replace_dict[value]\n",
    "boqa_monte_carlo(query, items_stat)"
   ]
  },
  {
   "cell_type": "code",
   "execution_count": null,
   "metadata": {},
   "outputs": [],
   "source": [
    "df = df.replace({\"COM_CCD\":\"COM\", \"COM_MMM\":\"COM\", \"NM_CAP\":\"NM\", \"CFTD\":\"OTHER\", \"NON_CM\":\"OTHER\",\"CM\":\"OTHER\", \"UNCLEAR\":\"OTHER\"})\n",
    "df = df.drop(df[df[\"conclusion\"]==\"OTHER\"].index)\n",
    "\n",
    "results = []\n",
    "for i in range(len(df)):\n",
    "    my_tree = json.loads(df.iloc[i,8])\n",
    "    query = {}\n",
    "    replace_dict = {-0.25: 0, 0.25: 1, 0.5: 1, 0.75: 1, 1:1, 0:0}\n",
    "    for feature in my_tree:\n",
    "        value = float(feature[\"data\"].get(\"presence\", -0.25))\n",
    "        query[feature[\"text\"]] = replace_dict[value]\n",
    "    class_CM, proba = boqa_monte_carlo(query, items_stat)\n",
    "    results.append([class_CM, proba, i])\n"
   ]
  },
  {
   "cell_type": "code",
   "execution_count": null,
   "metadata": {},
   "outputs": [],
   "source": [
    "tp, tn, fp, fn = [], [], [], []\n",
    "for class_CM, proba, index in results:\n",
    "    if class_CM == df.iloc[index,10] and proba >= 50:\n",
    "        tp.append([class_CM, proba , df.iloc[index,10]])\n",
    "    elif class_CM == df.iloc[index,10] and proba < 50:\n",
    "        fn.append([class_CM, proba , df.iloc[index,10]])\n",
    "    elif class_CM != df.iloc[index,10] and proba < 50:\n",
    "        tn.append([class_CM, proba , df.iloc[index,10]])\n",
    "    elif class_CM != df.iloc[index,10] and proba >= 50:\n",
    "        fp.append([class_CM, proba , df.iloc[index,10]])"
   ]
  },
  {
   "cell_type": "code",
   "execution_count": null,
   "metadata": {},
   "outputs": [],
   "source": [
    "print(len(tp), len(tp)/len(df)*100)\n",
    "print(len(tn), len(tn)/len(df)*100)\n",
    "print(len(fp), len(fp)/len(df)*100)\n",
    "print(len(fn), len(fn)/len(df)*100)"
   ]
  },
  {
   "cell_type": "code",
   "execution_count": null,
   "metadata": {},
   "outputs": [],
   "source": [
    "cf_matrix = np.empty((2,2))\n",
    "cf_matrix[0,0] = len(tn)\n",
    "cf_matrix[0,1] = len(fp)\n",
    "cf_matrix[1,0] = len(fn)\n",
    "cf_matrix[1,1] = len(tp)\n",
    "import seaborn as sns\n",
    "group_names = [\"True Neg\",\"False Pos\",\"False Neg\",\"True Pos\"]\n",
    "group_counts = [\"{0:0.0f}\".format(value) for value in cf_matrix.flatten()]\n",
    "group_percentages = [\"{0:.2%}\".format(value) for value in cf_matrix.flatten()/np.sum(cf_matrix)]\n",
    "labels = [f\"{v1}\\n{v2}\\n{v3}\" for v1, v2, v3 in zip(group_names,group_counts,group_percentages)]\n",
    "labels = np.asarray(labels).reshape(2,2)\n",
    "sns.heatmap(cf_matrix, annot=labels, fmt=\"\", cmap='Blues')"
   ]
  }
 ],
 "metadata": {
  "interpreter": {
   "hash": "7184f579ec78d0519e67e00d87a307dc220926cb31d7038472821cdc0bd66c71"
  },
  "kernelspec": {
   "display_name": "Python 3.8.5  ('venv': venv)",
   "name": "python3"
  },
  "language_info": {
   "codemirror_mode": {
    "name": "ipython",
    "version": 3
   },
   "file_extension": ".py",
   "mimetype": "text/x-python",
   "name": "python",
   "nbconvert_exporter": "python",
   "pygments_lexer": "ipython3",
   "version": "3.8.5"
  },
  "orig_nbformat": 2
 },
 "nbformat": 4,
 "nbformat_minor": 2
}