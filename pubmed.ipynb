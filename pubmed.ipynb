{
 "cells": [
  {
   "cell_type": "code",
   "execution_count": null,
   "metadata": {},
   "outputs": [],
   "source": [
    "from Bio import Entrez\n",
    "        \n",
    "Entrez.email = \"corentin.meyer@etu.unsitra.fr\"\n",
    "id_list = [34129875,34120822,34117073,34112090,33602879,33811133,34106991,34103343]\n",
    "handle = Entrez.efetch(db=\"pubmed\", id=id_list, retmode=\"xml\", rettype=\"abstract\")\n",
    "records = Entrez.read(handle)\n",
    "for i in range(len(id_list)):\n",
    "    print(\"Article ID: \", id_list[i])\n",
    "    print(''.join(records[\"PubmedArticle\"][i][\"MedlineCitation\"][\"Article\"][\"Abstract\"][\"AbstractText\"]))"
   ]
  }
 ],
 "metadata": {
  "interpreter": {
   "hash": "a8deeaac9d110d020cf02cb90130615d601eccb7528fd115dac771989d3df95a"
  },
  "kernelspec": {
   "display_name": "Python 3.8.5 64-bit ('venv': venv)",
   "name": "python3"
  },
  "language_info": {
   "codemirror_mode": {
    "name": "ipython",
    "version": 3
   },
   "file_extension": ".py",
   "mimetype": "text/x-python",
   "name": "python",
   "nbconvert_exporter": "python",
   "pygments_lexer": "ipython3",
   "version": "3.8.5"
  },
  "orig_nbformat": 4
 },
 "nbformat": 4,
 "nbformat_minor": 2
}